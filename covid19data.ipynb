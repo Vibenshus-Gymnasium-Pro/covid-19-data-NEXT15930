{
 "cells": [
  {
   "cell_type": "markdown",
   "id": "33ab2df5-fea2-4654-89b7-2b85d1441cc4",
   "metadata": {},
   "source": [
    "# Analyse af COVID-19 data"
   ]
  },
  {
   "cell_type": "markdown",
   "id": "ead85977-fe6c-45f8-8f7b-bc9c57fab45a",
   "metadata": {},
   "source": [
    "## Del 1: indlæs data\n",
    "0. Importere `pandas` og brug pandas.read_csv(path) til at hente data direkte fra GitHub-linket.\n",
    "\n",
    "    (https://raw.githubusercontent.com/CSSEGISandData/COVID-19/master/csse_covid_19_data/csse_covid_19_daily_reports/05-26-2020.csv)"
   ]
  },
  {
   "cell_type": "code",
   "execution_count": 2,
   "id": "fbe98997-dc43-47bd-940e-bc743ac0c673",
   "metadata": {},
   "outputs": [],
   "source": [
    "import pandas as pd\n",
    "\n",
    "date = '05-26-2020'\n",
    "path = 'https://raw.githubusercontent.com/CSSEGISandData/COVID-19/master/csse_covid_19_data/csse_covid_19_daily_reports/05-26-2020.csv'\n",
    "\n",
    "df = pd.read_csv(path)"
   ]
  },
  {
   "cell_type": "markdown",
   "id": "1abc5964-6914-49c2-88cc-7af204fdd173",
   "metadata": {},
   "source": [
    "1. Skimmelæs doc for bibliotek [datetime](https://docs.python.org/3/library/datetime.html)\n",
    "2. Brug `datetime` til at specificere en dato.\n",
    "3. Konstruér fil-stien ud fra den dato og hente dataen.\n",
    "4. Brug `df.head()` og `df.info()` for at få overblik af dataframe. Find ud af, hvilke kolonner der findes (fx Country_Region, Confirmed, Deaths, Recovered)."
   ]
  },
  {
   "cell_type": "code",
   "execution_count": 3,
   "id": "25ff3fd9-32b7-4c4f-802d-c844fa393879",
   "metadata": {},
   "outputs": [
    {
     "data": {
      "text/html": [
       "<div>\n",
       "<style scoped>\n",
       "    .dataframe tbody tr th:only-of-type {\n",
       "        vertical-align: middle;\n",
       "    }\n",
       "\n",
       "    .dataframe tbody tr th {\n",
       "        vertical-align: top;\n",
       "    }\n",
       "\n",
       "    .dataframe thead th {\n",
       "        text-align: right;\n",
       "    }\n",
       "</style>\n",
       "<table border=\"1\" class=\"dataframe\">\n",
       "  <thead>\n",
       "    <tr style=\"text-align: right;\">\n",
       "      <th></th>\n",
       "      <th>FIPS</th>\n",
       "      <th>Admin2</th>\n",
       "      <th>Province_State</th>\n",
       "      <th>Country_Region</th>\n",
       "      <th>Last_Update</th>\n",
       "      <th>Lat</th>\n",
       "      <th>Long_</th>\n",
       "      <th>Confirmed</th>\n",
       "      <th>Deaths</th>\n",
       "      <th>Recovered</th>\n",
       "      <th>Active</th>\n",
       "      <th>Combined_Key</th>\n",
       "    </tr>\n",
       "  </thead>\n",
       "  <tbody>\n",
       "    <tr>\n",
       "      <th>0</th>\n",
       "      <td>45001.0</td>\n",
       "      <td>Abbeville</td>\n",
       "      <td>South Carolina</td>\n",
       "      <td>US</td>\n",
       "      <td>2020-05-27 02:32:31</td>\n",
       "      <td>34.223334</td>\n",
       "      <td>-82.461707</td>\n",
       "      <td>35</td>\n",
       "      <td>0</td>\n",
       "      <td>0</td>\n",
       "      <td>35</td>\n",
       "      <td>Abbeville, South Carolina, US</td>\n",
       "    </tr>\n",
       "    <tr>\n",
       "      <th>1</th>\n",
       "      <td>22001.0</td>\n",
       "      <td>Acadia</td>\n",
       "      <td>Louisiana</td>\n",
       "      <td>US</td>\n",
       "      <td>2020-05-27 02:32:31</td>\n",
       "      <td>30.295065</td>\n",
       "      <td>-92.414197</td>\n",
       "      <td>395</td>\n",
       "      <td>18</td>\n",
       "      <td>0</td>\n",
       "      <td>377</td>\n",
       "      <td>Acadia, Louisiana, US</td>\n",
       "    </tr>\n",
       "    <tr>\n",
       "      <th>2</th>\n",
       "      <td>51001.0</td>\n",
       "      <td>Accomack</td>\n",
       "      <td>Virginia</td>\n",
       "      <td>US</td>\n",
       "      <td>2020-05-27 02:32:31</td>\n",
       "      <td>37.767072</td>\n",
       "      <td>-75.632346</td>\n",
       "      <td>758</td>\n",
       "      <td>11</td>\n",
       "      <td>0</td>\n",
       "      <td>747</td>\n",
       "      <td>Accomack, Virginia, US</td>\n",
       "    </tr>\n",
       "    <tr>\n",
       "      <th>3</th>\n",
       "      <td>16001.0</td>\n",
       "      <td>Ada</td>\n",
       "      <td>Idaho</td>\n",
       "      <td>US</td>\n",
       "      <td>2020-05-27 02:32:31</td>\n",
       "      <td>43.452658</td>\n",
       "      <td>-116.241552</td>\n",
       "      <td>796</td>\n",
       "      <td>23</td>\n",
       "      <td>0</td>\n",
       "      <td>773</td>\n",
       "      <td>Ada, Idaho, US</td>\n",
       "    </tr>\n",
       "    <tr>\n",
       "      <th>4</th>\n",
       "      <td>19001.0</td>\n",
       "      <td>Adair</td>\n",
       "      <td>Iowa</td>\n",
       "      <td>US</td>\n",
       "      <td>2020-05-27 02:32:31</td>\n",
       "      <td>41.330756</td>\n",
       "      <td>-94.471059</td>\n",
       "      <td>7</td>\n",
       "      <td>0</td>\n",
       "      <td>0</td>\n",
       "      <td>7</td>\n",
       "      <td>Adair, Iowa, US</td>\n",
       "    </tr>\n",
       "  </tbody>\n",
       "</table>\n",
       "</div>"
      ],
      "text/plain": [
       "      FIPS     Admin2  Province_State Country_Region          Last_Update  \\\n",
       "0  45001.0  Abbeville  South Carolina             US  2020-05-27 02:32:31   \n",
       "1  22001.0     Acadia       Louisiana             US  2020-05-27 02:32:31   \n",
       "2  51001.0   Accomack        Virginia             US  2020-05-27 02:32:31   \n",
       "3  16001.0        Ada           Idaho             US  2020-05-27 02:32:31   \n",
       "4  19001.0      Adair            Iowa             US  2020-05-27 02:32:31   \n",
       "\n",
       "         Lat       Long_  Confirmed  Deaths  Recovered  Active  \\\n",
       "0  34.223334  -82.461707         35       0          0      35   \n",
       "1  30.295065  -92.414197        395      18          0     377   \n",
       "2  37.767072  -75.632346        758      11          0     747   \n",
       "3  43.452658 -116.241552        796      23          0     773   \n",
       "4  41.330756  -94.471059          7       0          0       7   \n",
       "\n",
       "                    Combined_Key  \n",
       "0  Abbeville, South Carolina, US  \n",
       "1          Acadia, Louisiana, US  \n",
       "2         Accomack, Virginia, US  \n",
       "3                 Ada, Idaho, US  \n",
       "4                Adair, Iowa, US  "
      ]
     },
     "execution_count": 3,
     "metadata": {},
     "output_type": "execute_result"
    }
   ],
   "source": [
    "df.head()"
   ]
  },
  {
   "cell_type": "code",
   "execution_count": 4,
   "id": "c20d04d4-7e7b-4f55-a1a3-d9b0f05600e1",
   "metadata": {},
   "outputs": [
    {
     "name": "stdout",
     "output_type": "stream",
     "text": [
      "<class 'pandas.core.frame.DataFrame'>\n",
      "RangeIndex: 3451 entries, 0 to 3450\n",
      "Data columns (total 12 columns):\n",
      " #   Column          Non-Null Count  Dtype  \n",
      "---  ------          --------------  -----  \n",
      " 0   FIPS            3012 non-null   float64\n",
      " 1   Admin2          3012 non-null   object \n",
      " 2   Province_State  3266 non-null   object \n",
      " 3   Country_Region  3451 non-null   object \n",
      " 4   Last_Update     3451 non-null   object \n",
      " 5   Lat             3379 non-null   float64\n",
      " 6   Long_           3379 non-null   float64\n",
      " 7   Confirmed       3451 non-null   int64  \n",
      " 8   Deaths          3451 non-null   int64  \n",
      " 9   Recovered       3451 non-null   int64  \n",
      " 10  Active          3451 non-null   int64  \n",
      " 11  Combined_Key    3451 non-null   object \n",
      "dtypes: float64(3), int64(4), object(5)\n",
      "memory usage: 323.7+ KB\n"
     ]
    }
   ],
   "source": [
    "df.info()"
   ]
  },
  {
   "cell_type": "markdown",
   "id": "8200dcc6-db72-4099-b097-2343c328dbbd",
   "metadata": {},
   "source": [
    "## Del 2: datarensning\n",
    "\n",
    "Læs artiklen [Pythonic Data Cleaning With pandas and NumPy](https://realpython.com/python-data-cleaning-numpy-pandas/)\n",
    "Rense og konstruér dataframe `df`, der indholde kolonerne \"Country\", \"Latitude\", \"Longitude\", \"Confirmed\", \"Deaths\", \"Recovered\" og \"Active\". "
   ]
  },
  {
   "cell_type": "code",
   "execution_count": 5,
   "id": "474b492c-14a8-4b70-aeb0-866433a01838",
   "metadata": {},
   "outputs": [],
   "source": [
    "to_drop = ['FIPS',\n",
    "           'Admin2',\n",
    "           'Province_State',\n",
    "           'Last_Update',\n",
    "           'Combined_Key']\n",
    "df.drop(to_drop, inplace=True, axis=1)"
   ]
  },
  {
   "cell_type": "code",
   "execution_count": 6,
   "id": "27a75773-c198-40a2-a485-8ab7f7fe4a31",
   "metadata": {},
   "outputs": [
    {
     "data": {
      "text/html": [
       "<div>\n",
       "<style scoped>\n",
       "    .dataframe tbody tr th:only-of-type {\n",
       "        vertical-align: middle;\n",
       "    }\n",
       "\n",
       "    .dataframe tbody tr th {\n",
       "        vertical-align: top;\n",
       "    }\n",
       "\n",
       "    .dataframe thead th {\n",
       "        text-align: right;\n",
       "    }\n",
       "</style>\n",
       "<table border=\"1\" class=\"dataframe\">\n",
       "  <thead>\n",
       "    <tr style=\"text-align: right;\">\n",
       "      <th></th>\n",
       "      <th>Country_Region</th>\n",
       "      <th>Lat</th>\n",
       "      <th>Long_</th>\n",
       "      <th>Confirmed</th>\n",
       "      <th>Deaths</th>\n",
       "      <th>Recovered</th>\n",
       "      <th>Active</th>\n",
       "    </tr>\n",
       "  </thead>\n",
       "  <tbody>\n",
       "    <tr>\n",
       "      <th>0</th>\n",
       "      <td>US</td>\n",
       "      <td>34.223334</td>\n",
       "      <td>-82.461707</td>\n",
       "      <td>35</td>\n",
       "      <td>0</td>\n",
       "      <td>0</td>\n",
       "      <td>35</td>\n",
       "    </tr>\n",
       "    <tr>\n",
       "      <th>1</th>\n",
       "      <td>US</td>\n",
       "      <td>30.295065</td>\n",
       "      <td>-92.414197</td>\n",
       "      <td>395</td>\n",
       "      <td>18</td>\n",
       "      <td>0</td>\n",
       "      <td>377</td>\n",
       "    </tr>\n",
       "    <tr>\n",
       "      <th>2</th>\n",
       "      <td>US</td>\n",
       "      <td>37.767072</td>\n",
       "      <td>-75.632346</td>\n",
       "      <td>758</td>\n",
       "      <td>11</td>\n",
       "      <td>0</td>\n",
       "      <td>747</td>\n",
       "    </tr>\n",
       "    <tr>\n",
       "      <th>3</th>\n",
       "      <td>US</td>\n",
       "      <td>43.452658</td>\n",
       "      <td>-116.241552</td>\n",
       "      <td>796</td>\n",
       "      <td>23</td>\n",
       "      <td>0</td>\n",
       "      <td>773</td>\n",
       "    </tr>\n",
       "    <tr>\n",
       "      <th>4</th>\n",
       "      <td>US</td>\n",
       "      <td>41.330756</td>\n",
       "      <td>-94.471059</td>\n",
       "      <td>7</td>\n",
       "      <td>0</td>\n",
       "      <td>0</td>\n",
       "      <td>7</td>\n",
       "    </tr>\n",
       "  </tbody>\n",
       "</table>\n",
       "</div>"
      ],
      "text/plain": [
       "  Country_Region        Lat       Long_  Confirmed  Deaths  Recovered  Active\n",
       "0             US  34.223334  -82.461707         35       0          0      35\n",
       "1             US  30.295065  -92.414197        395      18          0     377\n",
       "2             US  37.767072  -75.632346        758      11          0     747\n",
       "3             US  43.452658 -116.241552        796      23          0     773\n",
       "4             US  41.330756  -94.471059          7       0          0       7"
      ]
     },
     "execution_count": 6,
     "metadata": {},
     "output_type": "execute_result"
    }
   ],
   "source": [
    "df.head()"
   ]
  },
  {
   "cell_type": "code",
   "execution_count": 7,
   "id": "52463049-9534-41fa-a330-20b96edd228e",
   "metadata": {},
   "outputs": [],
   "source": [
    "new_names = {'Country_Region': 'Country',\n",
    "             'Lat': 'Latitude',\n",
    "             'Long_': 'Longitude'}\n",
    "df.rename(columns=new_names, inplace=True)"
   ]
  },
  {
   "cell_type": "code",
   "execution_count": 8,
   "id": "8b44110d-e584-4fb0-a35f-76ea4864b1a6",
   "metadata": {},
   "outputs": [
    {
     "data": {
      "text/html": [
       "<div>\n",
       "<style scoped>\n",
       "    .dataframe tbody tr th:only-of-type {\n",
       "        vertical-align: middle;\n",
       "    }\n",
       "\n",
       "    .dataframe tbody tr th {\n",
       "        vertical-align: top;\n",
       "    }\n",
       "\n",
       "    .dataframe thead th {\n",
       "        text-align: right;\n",
       "    }\n",
       "</style>\n",
       "<table border=\"1\" class=\"dataframe\">\n",
       "  <thead>\n",
       "    <tr style=\"text-align: right;\">\n",
       "      <th></th>\n",
       "      <th>Country</th>\n",
       "      <th>Latitude</th>\n",
       "      <th>Longitude</th>\n",
       "      <th>Confirmed</th>\n",
       "      <th>Deaths</th>\n",
       "      <th>Recovered</th>\n",
       "      <th>Active</th>\n",
       "    </tr>\n",
       "  </thead>\n",
       "  <tbody>\n",
       "    <tr>\n",
       "      <th>0</th>\n",
       "      <td>US</td>\n",
       "      <td>34.223334</td>\n",
       "      <td>-82.461707</td>\n",
       "      <td>35</td>\n",
       "      <td>0</td>\n",
       "      <td>0</td>\n",
       "      <td>35</td>\n",
       "    </tr>\n",
       "    <tr>\n",
       "      <th>1</th>\n",
       "      <td>US</td>\n",
       "      <td>30.295065</td>\n",
       "      <td>-92.414197</td>\n",
       "      <td>395</td>\n",
       "      <td>18</td>\n",
       "      <td>0</td>\n",
       "      <td>377</td>\n",
       "    </tr>\n",
       "    <tr>\n",
       "      <th>2</th>\n",
       "      <td>US</td>\n",
       "      <td>37.767072</td>\n",
       "      <td>-75.632346</td>\n",
       "      <td>758</td>\n",
       "      <td>11</td>\n",
       "      <td>0</td>\n",
       "      <td>747</td>\n",
       "    </tr>\n",
       "    <tr>\n",
       "      <th>3</th>\n",
       "      <td>US</td>\n",
       "      <td>43.452658</td>\n",
       "      <td>-116.241552</td>\n",
       "      <td>796</td>\n",
       "      <td>23</td>\n",
       "      <td>0</td>\n",
       "      <td>773</td>\n",
       "    </tr>\n",
       "    <tr>\n",
       "      <th>4</th>\n",
       "      <td>US</td>\n",
       "      <td>41.330756</td>\n",
       "      <td>-94.471059</td>\n",
       "      <td>7</td>\n",
       "      <td>0</td>\n",
       "      <td>0</td>\n",
       "      <td>7</td>\n",
       "    </tr>\n",
       "  </tbody>\n",
       "</table>\n",
       "</div>"
      ],
      "text/plain": [
       "  Country   Latitude   Longitude  Confirmed  Deaths  Recovered  Active\n",
       "0      US  34.223334  -82.461707         35       0          0      35\n",
       "1      US  30.295065  -92.414197        395      18          0     377\n",
       "2      US  37.767072  -75.632346        758      11          0     747\n",
       "3      US  43.452658 -116.241552        796      23          0     773\n",
       "4      US  41.330756  -94.471059          7       0          0       7"
      ]
     },
     "execution_count": 8,
     "metadata": {},
     "output_type": "execute_result"
    }
   ],
   "source": [
    "df.head()"
   ]
  },
  {
   "cell_type": "markdown",
   "id": "ed0d89a2-be6a-4416-b8f3-d9d76480666d",
   "metadata": {},
   "source": [
    "## Del 3: gruppér data\n",
    "1. Gruppér evt. efter \"Country\" og summér antal Confirmed og Deaths.\n",
    "2. Find de 10 lande med flest smittede den dag."
   ]
  },
  {
   "cell_type": "code",
   "execution_count": 9,
   "id": "c7e3c111-f4e6-4182-bace-46c62907dab9",
   "metadata": {},
   "outputs": [],
   "source": [
    "to_drop = ['Latitude',\n",
    "           'Longitude']\n",
    "groupeddf = df.drop(to_drop, inplace=False, axis=1)"
   ]
  },
  {
   "cell_type": "code",
   "execution_count": 10,
   "id": "35a95c8c-d3ad-425b-8aaf-262c8804585c",
   "metadata": {},
   "outputs": [],
   "source": [
    "groupeddf = groupeddf.groupby('Country').sum()"
   ]
  },
  {
   "cell_type": "code",
   "execution_count": 11,
   "id": "8ff7b3ae-4d67-4dbd-ad56-44df8120221f",
   "metadata": {},
   "outputs": [
    {
     "data": {
      "text/html": [
       "<div>\n",
       "<style scoped>\n",
       "    .dataframe tbody tr th:only-of-type {\n",
       "        vertical-align: middle;\n",
       "    }\n",
       "\n",
       "    .dataframe tbody tr th {\n",
       "        vertical-align: top;\n",
       "    }\n",
       "\n",
       "    .dataframe thead th {\n",
       "        text-align: right;\n",
       "    }\n",
       "</style>\n",
       "<table border=\"1\" class=\"dataframe\">\n",
       "  <thead>\n",
       "    <tr style=\"text-align: right;\">\n",
       "      <th></th>\n",
       "      <th>Confirmed</th>\n",
       "      <th>Deaths</th>\n",
       "      <th>Recovered</th>\n",
       "      <th>Active</th>\n",
       "    </tr>\n",
       "    <tr>\n",
       "      <th>Country</th>\n",
       "      <th></th>\n",
       "      <th></th>\n",
       "      <th></th>\n",
       "      <th></th>\n",
       "    </tr>\n",
       "  </thead>\n",
       "  <tbody>\n",
       "    <tr>\n",
       "      <th>Afghanistan</th>\n",
       "      <td>11917</td>\n",
       "      <td>224</td>\n",
       "      <td>1128</td>\n",
       "      <td>10565</td>\n",
       "    </tr>\n",
       "    <tr>\n",
       "      <th>Albania</th>\n",
       "      <td>1029</td>\n",
       "      <td>33</td>\n",
       "      <td>803</td>\n",
       "      <td>193</td>\n",
       "    </tr>\n",
       "    <tr>\n",
       "      <th>Algeria</th>\n",
       "      <td>8697</td>\n",
       "      <td>617</td>\n",
       "      <td>4918</td>\n",
       "      <td>3162</td>\n",
       "    </tr>\n",
       "    <tr>\n",
       "      <th>Andorra</th>\n",
       "      <td>763</td>\n",
       "      <td>51</td>\n",
       "      <td>676</td>\n",
       "      <td>36</td>\n",
       "    </tr>\n",
       "    <tr>\n",
       "      <th>Angola</th>\n",
       "      <td>70</td>\n",
       "      <td>4</td>\n",
       "      <td>18</td>\n",
       "      <td>48</td>\n",
       "    </tr>\n",
       "  </tbody>\n",
       "</table>\n",
       "</div>"
      ],
      "text/plain": [
       "             Confirmed  Deaths  Recovered  Active\n",
       "Country                                          \n",
       "Afghanistan      11917     224       1128   10565\n",
       "Albania           1029      33        803     193\n",
       "Algeria           8697     617       4918    3162\n",
       "Andorra            763      51        676      36\n",
       "Angola              70       4         18      48"
      ]
     },
     "execution_count": 11,
     "metadata": {},
     "output_type": "execute_result"
    }
   ],
   "source": [
    "groupeddf.head()"
   ]
  },
  {
   "cell_type": "code",
   "execution_count": 12,
   "id": "0fe6726f-1c94-454a-8a6a-5e43562e1efd",
   "metadata": {},
   "outputs": [
    {
     "data": {
      "text/plain": [
       "Country\n",
       "US                1582767\n",
       "Brazil             366710\n",
       "United Kingdom     228308\n",
       "Russia             227406\n",
       "France              90244\n",
       "India               82172\n",
       "Chile               77155\n",
       "Spain               64981\n",
       "Peru                59049\n",
       "Italy               52942\n",
       "Name: Active, dtype: int64"
      ]
     },
     "execution_count": 12,
     "metadata": {},
     "output_type": "execute_result"
    }
   ],
   "source": [
    "groupeddf['Active'].nlargest(10)"
   ]
  },
  {
   "cell_type": "markdown",
   "id": "767c2ae3-5518-461d-bcbf-bafab49f934b",
   "metadata": {},
   "source": [
    "## Del 4: Visualisering\n",
    "Vælg noget plot eksampler fra [seaborn](https://seaborn.pydata.org/examples/index.html) og \n",
    "1. Lav et bar plot over de 10 lande med flest smittede.\n",
    "2. Lav et pie chart over fordelingen af dødsfald mellem de samme 10 lande."
   ]
  },
  {
   "cell_type": "code",
   "execution_count": 13,
   "id": "c39a55d6-4e00-43d3-873c-b02169135a85",
   "metadata": {},
   "outputs": [
    {
     "data": {
      "text/plain": [
       "<Axes: xlabel='Active', ylabel='Country'>"
      ]
     },
     "execution_count": 13,
     "metadata": {},
     "output_type": "execute_result"
    },
    {
     "data": {
      "image/png": "[encoded data removed]",
      "text/plain": [
       "<Figure size 640x480 with 1 Axes>"
      ]
     },
     "metadata": {},
     "output_type": "display_data"
    }
   ],
   "source": [
    "import seaborn as sns\n",
    "import numpy as np\n",
    "import matplotlib.pyplot as plt\n",
    "sns.set_theme(style=\"whitegrid\")\n",
    "\n",
    "fig, ax = plt.subplots()\n",
    "ax.xaxis.get_major_formatter().set_scientific(False)\n",
    "plt.xticks(np.arange(0, 1600000, step=300000))\n",
    "\n",
    "sns.barplot(x=\"Active\", y=\"Country\", data=groupeddf.sort_values('Active', ascending=False).head(10),\n",
    "            label=\"Infected\", color=\"b\")"
   ]
  },
  {
   "cell_type": "code",
   "execution_count": 18,
   "id": "72adac43-e924-40d3-b3d3-3246fc09d38b",
   "metadata": {},
   "outputs": [
    {
     "data": {
      "text/plain": [
       "<Axes: xlabel='Deaths', ylabel='Country'>"
      ]
     },
     "execution_count": 18,
     "metadata": {},
     "output_type": "execute_result"
    },
    {
     "data": {
      "image/png": "[encoded data removed]",
      "text/plain": [
       "<Figure size 640x480 with 1 Axes>"
      ]
     },
     "metadata": {},
     "output_type": "display_data"
    }
   ],
   "source": [
    "sns.barplot(x=\"Deaths\", y=\"Country\", data=groupeddf.sort_values('Active', ascending=False).head(10),\n",
    "            label=\"Deaths\", color=\"b\")"
   ]
  },
  {
   "cell_type": "code",
   "execution_count": 38,
   "id": "63634373-0456-4a8b-b478-39ea2c92c1fe",
   "metadata": {},
   "outputs": [
    {
     "data": {
      "image/png": "[encoded data removed]",
      "text/plain": [
       "<Figure size 640x480 with 1 Axes>"
      ]
     },
     "metadata": {},
     "output_type": "display_data"
    }
   ],
   "source": [
    "plt.pie(groupeddf.sort_values('Active', ascending=False)['Deaths'].head(10), labels=groupeddf.sort_values('Active', ascending=False).head(10).index, autopct='%1.1f%%')\n",
    "plt.title('Pie chart over deaths in the 10 countries with most Covid-19 cases')\n",
    "plt.show()"
   ]
  },
  {
   "cell_type": "markdown",
   "id": "6a44425d-7712-4650-83f5-ee9eeaa0aa61",
   "metadata": {},
   "source": [
    "## Ekstra udfordring: Kortvisualisering med Plotly\n",
    "**Plotly** er et Python-bibliotek til interaktive visualiseringer, der kan bruges direkte i Jupyter Notebooks, Python scripts eller integreres i webapps. Det kan lave alt fra simple linjediagrammer til avancerede 3D-grafer og kort.\n",
    "\n",
    "**Plotly Express** er en “hurtig” version af **Plotly**, der gør det nemt at lave grafer med få linjer kode. Det minder meget om seaborn eller pandas.plot, men med interaktivitet. \n",
    "\n",
    "Kig lidt ind i https://plotly.com/python/plotly-express/ og bruge `plotly.express.choropleth` til at lave et interaktivt verdenskort, hvor landene farves efter antallet af bekræftede COVID-19-tilfælde (eller dødsfald) på en given dato."
   ]
  },
  {
   "cell_type": "code",
   "execution_count": null,
   "id": "fb6c7699-5a53-4daa-8134-c1c65a7649ce",
   "metadata": {},
   "outputs": [],
   "source": []
  }
 ],
 "metadata": {
  "kernelspec": {
   "display_name": "Python 3 (ipykernel)",
   "language": "python",
   "name": "python3"
  },
  "language_info": {
   "codemirror_mode": {
    "name": "ipython",
    "version": 3
   },
   "file_extension": ".py",
   "mimetype": "text/x-python",
   "name": "python",
   "nbconvert_exporter": "python",
   "pygments_lexer": "ipython3",
   "version": "3.13.9"
  }
 },
 "nbformat": 4,
 "nbformat_minor": 5
}
